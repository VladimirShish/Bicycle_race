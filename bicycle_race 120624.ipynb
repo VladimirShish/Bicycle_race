{
 "cells": [
  {
   "cell_type": "markdown",
   "id": "ab25893b",
   "metadata": {},
   "source": [
    "<div style=\"border:solid gray 2px; padding: 30px\">\n",
    "    \n",
    "* Анализ результатов велосипедного заезда групповой гонки с общим стартом на 98км UCI Grand Fondo\n",
    "* Распределение времени финиширования по группам и возрастным категориям. "
   ]
  },
  {
   "cell_type": "markdown",
   "id": "2f216fb6",
   "metadata": {},
   "source": [
    "#### **1. Загрузка исходных данных**"
   ]
  },
  {
   "cell_type": "code",
   "execution_count": 1,
   "id": "f00bcebd",
   "metadata": {
    "scrolled": false
   },
   "outputs": [],
   "source": [
    "import pandas as pd\n",
    "import numpy as np\n",
    "import matplotlib.pyplot as plt\n",
    "import seaborn as sns"
   ]
  },
  {
   "cell_type": "code",
   "execution_count": 2,
   "id": "e4f33e32",
   "metadata": {},
   "outputs": [
    {
     "data": {
      "text/html": [
       "<div>\n",
       "<style scoped>\n",
       "    .dataframe tbody tr th:only-of-type {\n",
       "        vertical-align: middle;\n",
       "    }\n",
       "\n",
       "    .dataframe tbody tr th {\n",
       "        vertical-align: top;\n",
       "    }\n",
       "\n",
       "    .dataframe thead th {\n",
       "        text-align: right;\n",
       "    }\n",
       "</style>\n",
       "<table border=\"1\" class=\"dataframe\">\n",
       "  <thead>\n",
       "    <tr style=\"text-align: right;\">\n",
       "      <th></th>\n",
       "      <th>hour_minute</th>\n",
       "      <th>second</th>\n",
       "      <th>gender</th>\n",
       "      <th>age</th>\n",
       "    </tr>\n",
       "  </thead>\n",
       "  <tbody>\n",
       "    <tr>\n",
       "      <th>1</th>\n",
       "      <td>2.39</td>\n",
       "      <td>53</td>\n",
       "      <td>woman</td>\n",
       "      <td>&lt; 34</td>\n",
       "    </tr>\n",
       "    <tr>\n",
       "      <th>2</th>\n",
       "      <td>2.53</td>\n",
       "      <td>36</td>\n",
       "      <td>woman</td>\n",
       "      <td>&lt; 34</td>\n",
       "    </tr>\n",
       "    <tr>\n",
       "      <th>3</th>\n",
       "      <td>2.58</td>\n",
       "      <td>19</td>\n",
       "      <td>woman</td>\n",
       "      <td>&lt; 34</td>\n",
       "    </tr>\n",
       "  </tbody>\n",
       "</table>\n",
       "</div>"
      ],
      "text/plain": [
       "  hour_minute  second gender   age\n",
       "1        2.39      53  woman  < 34\n",
       "2        2.53      36  woman  < 34\n",
       "3        2.58      19  woman  < 34"
      ]
     },
     "execution_count": 2,
     "metadata": {},
     "output_type": "execute_result"
    }
   ],
   "source": [
    "df = pd.read_excel(r'datasets\\uci_data.xlsx', index_col=0, dtype=({'hour_minute':str}))\n",
    "df.head(3)"
   ]
  },
  {
   "cell_type": "code",
   "execution_count": 3,
   "id": "74fa3842",
   "metadata": {},
   "outputs": [
    {
     "name": "stdout",
     "output_type": "stream",
     "text": [
      "<class 'pandas.core.frame.DataFrame'>\n",
      "Index: 305 entries, 1 to 305\n",
      "Data columns (total 4 columns):\n",
      " #   Column       Non-Null Count  Dtype \n",
      "---  ------       --------------  ----- \n",
      " 0   hour_minute  305 non-null    object\n",
      " 1   second       305 non-null    int64 \n",
      " 2   gender       305 non-null    object\n",
      " 3   age          305 non-null    object\n",
      "dtypes: int64(1), object(3)\n",
      "memory usage: 11.9+ KB\n"
     ]
    }
   ],
   "source": [
    "df.info()"
   ]
  },
  {
   "cell_type": "markdown",
   "id": "908b1339",
   "metadata": {},
   "source": [
    "#### **2. Предобработка**"
   ]
  },
  {
   "cell_type": "markdown",
   "id": "3f199ae0",
   "metadata": {},
   "source": [
    "* замена типа данных секунд и заполнение до двух знаков, для последующего соединения минутами"
   ]
  },
  {
   "cell_type": "code",
   "execution_count": 4,
   "id": "a27de1c8",
   "metadata": {},
   "outputs": [
    {
     "name": "stdout",
     "output_type": "stream",
     "text": [
      "<class 'pandas.core.frame.DataFrame'>\n",
      "Index: 305 entries, 1 to 305\n",
      "Data columns (total 4 columns):\n",
      " #   Column       Non-Null Count  Dtype \n",
      "---  ------       --------------  ----- \n",
      " 0   hour_minute  305 non-null    object\n",
      " 1   second       305 non-null    object\n",
      " 2   gender       305 non-null    object\n",
      " 3   age          305 non-null    object\n",
      "dtypes: object(4)\n",
      "memory usage: 11.9+ KB\n"
     ]
    }
   ],
   "source": [
    "df['second'] = df['second'].astype(str)\n",
    "df.info()"
   ]
  },
  {
   "cell_type": "code",
   "execution_count": 5,
   "id": "4869c785",
   "metadata": {},
   "outputs": [
    {
     "data": {
      "text/html": [
       "<div>\n",
       "<style scoped>\n",
       "    .dataframe tbody tr th:only-of-type {\n",
       "        vertical-align: middle;\n",
       "    }\n",
       "\n",
       "    .dataframe tbody tr th {\n",
       "        vertical-align: top;\n",
       "    }\n",
       "\n",
       "    .dataframe thead th {\n",
       "        text-align: right;\n",
       "    }\n",
       "</style>\n",
       "<table border=\"1\" class=\"dataframe\">\n",
       "  <thead>\n",
       "    <tr style=\"text-align: right;\">\n",
       "      <th></th>\n",
       "      <th>hour_minute</th>\n",
       "      <th>second</th>\n",
       "      <th>gender</th>\n",
       "      <th>age</th>\n",
       "    </tr>\n",
       "  </thead>\n",
       "  <tbody>\n",
       "    <tr>\n",
       "      <th>1</th>\n",
       "      <td>2.39</td>\n",
       "      <td>53</td>\n",
       "      <td>woman</td>\n",
       "      <td>&lt; 34</td>\n",
       "    </tr>\n",
       "    <tr>\n",
       "      <th>2</th>\n",
       "      <td>2.53</td>\n",
       "      <td>36</td>\n",
       "      <td>woman</td>\n",
       "      <td>&lt; 34</td>\n",
       "    </tr>\n",
       "    <tr>\n",
       "      <th>3</th>\n",
       "      <td>2.58</td>\n",
       "      <td>19</td>\n",
       "      <td>woman</td>\n",
       "      <td>&lt; 34</td>\n",
       "    </tr>\n",
       "  </tbody>\n",
       "</table>\n",
       "</div>"
      ],
      "text/plain": [
       "  hour_minute second gender   age\n",
       "1        2.39     53  woman  < 34\n",
       "2        2.53     36  woman  < 34\n",
       "3        2.58     19  woman  < 34"
      ]
     },
     "execution_count": 5,
     "metadata": {},
     "output_type": "execute_result"
    }
   ],
   "source": [
    "df['second'] = df['second'].str.zfill(2)\n",
    "df['hour_minute'] = df['hour_minute'].astype(float).map('{:.2f}'.format)\n",
    "df.head(3)"
   ]
  },
  {
   "cell_type": "markdown",
   "id": "19335348",
   "metadata": {},
   "source": [
    "#### **3. Формирование итоговых показателей**"
   ]
  },
  {
   "cell_type": "markdown",
   "id": "8f3e0899",
   "metadata": {},
   "source": [
    "* добавление столбца с временем и замена разделителей для последующего изменения типа данных"
   ]
  },
  {
   "cell_type": "code",
   "execution_count": 6,
   "id": "b912e152",
   "metadata": {},
   "outputs": [
    {
     "data": {
      "text/html": [
       "<div>\n",
       "<style scoped>\n",
       "    .dataframe tbody tr th:only-of-type {\n",
       "        vertical-align: middle;\n",
       "    }\n",
       "\n",
       "    .dataframe tbody tr th {\n",
       "        vertical-align: top;\n",
       "    }\n",
       "\n",
       "    .dataframe thead th {\n",
       "        text-align: right;\n",
       "    }\n",
       "</style>\n",
       "<table border=\"1\" class=\"dataframe\">\n",
       "  <thead>\n",
       "    <tr style=\"text-align: right;\">\n",
       "      <th></th>\n",
       "      <th>hour_minute</th>\n",
       "      <th>second</th>\n",
       "      <th>gender</th>\n",
       "      <th>age</th>\n",
       "      <th>time</th>\n",
       "    </tr>\n",
       "  </thead>\n",
       "  <tbody>\n",
       "    <tr>\n",
       "      <th>1</th>\n",
       "      <td>2.39</td>\n",
       "      <td>53</td>\n",
       "      <td>woman</td>\n",
       "      <td>&lt; 34</td>\n",
       "      <td>2:39:53</td>\n",
       "    </tr>\n",
       "    <tr>\n",
       "      <th>2</th>\n",
       "      <td>2.53</td>\n",
       "      <td>36</td>\n",
       "      <td>woman</td>\n",
       "      <td>&lt; 34</td>\n",
       "      <td>2:53:36</td>\n",
       "    </tr>\n",
       "    <tr>\n",
       "      <th>3</th>\n",
       "      <td>2.58</td>\n",
       "      <td>19</td>\n",
       "      <td>woman</td>\n",
       "      <td>&lt; 34</td>\n",
       "      <td>2:58:19</td>\n",
       "    </tr>\n",
       "  </tbody>\n",
       "</table>\n",
       "</div>"
      ],
      "text/plain": [
       "  hour_minute second gender   age     time\n",
       "1        2.39     53  woman  < 34  2:39:53\n",
       "2        2.53     36  woman  < 34  2:53:36\n",
       "3        2.58     19  woman  < 34  2:58:19"
      ]
     },
     "execution_count": 6,
     "metadata": {},
     "output_type": "execute_result"
    }
   ],
   "source": [
    "df['time'] = df['hour_minute'] + '.' + df['second']\n",
    "df['time'] = df['time'].str.replace('.', ':')\n",
    "df.head(3)"
   ]
  },
  {
   "cell_type": "markdown",
   "id": "733dbb84",
   "metadata": {},
   "source": [
    "* замена типа данных нового столбца"
   ]
  },
  {
   "cell_type": "code",
   "execution_count": 7,
   "id": "17a4eb22",
   "metadata": {},
   "outputs": [
    {
     "data": {
      "text/html": [
       "<div>\n",
       "<style scoped>\n",
       "    .dataframe tbody tr th:only-of-type {\n",
       "        vertical-align: middle;\n",
       "    }\n",
       "\n",
       "    .dataframe tbody tr th {\n",
       "        vertical-align: top;\n",
       "    }\n",
       "\n",
       "    .dataframe thead th {\n",
       "        text-align: right;\n",
       "    }\n",
       "</style>\n",
       "<table border=\"1\" class=\"dataframe\">\n",
       "  <thead>\n",
       "    <tr style=\"text-align: right;\">\n",
       "      <th></th>\n",
       "      <th>hour_minute</th>\n",
       "      <th>second</th>\n",
       "      <th>gender</th>\n",
       "      <th>age</th>\n",
       "      <th>time</th>\n",
       "    </tr>\n",
       "  </thead>\n",
       "  <tbody>\n",
       "    <tr>\n",
       "      <th>1</th>\n",
       "      <td>2.39</td>\n",
       "      <td>53</td>\n",
       "      <td>woman</td>\n",
       "      <td>&lt; 34</td>\n",
       "      <td>0 days 02:39:53</td>\n",
       "    </tr>\n",
       "    <tr>\n",
       "      <th>2</th>\n",
       "      <td>2.53</td>\n",
       "      <td>36</td>\n",
       "      <td>woman</td>\n",
       "      <td>&lt; 34</td>\n",
       "      <td>0 days 02:53:36</td>\n",
       "    </tr>\n",
       "    <tr>\n",
       "      <th>3</th>\n",
       "      <td>2.58</td>\n",
       "      <td>19</td>\n",
       "      <td>woman</td>\n",
       "      <td>&lt; 34</td>\n",
       "      <td>0 days 02:58:19</td>\n",
       "    </tr>\n",
       "  </tbody>\n",
       "</table>\n",
       "</div>"
      ],
      "text/plain": [
       "  hour_minute second gender   age            time\n",
       "1        2.39     53  woman  < 34 0 days 02:39:53\n",
       "2        2.53     36  woman  < 34 0 days 02:53:36\n",
       "3        2.58     19  woman  < 34 0 days 02:58:19"
      ]
     },
     "execution_count": 7,
     "metadata": {},
     "output_type": "execute_result"
    }
   ],
   "source": [
    "df['time'] = pd.to_timedelta(df['time'])\n",
    "df.head(3)"
   ]
  },
  {
   "cell_type": "markdown",
   "id": "a92fd954",
   "metadata": {},
   "source": [
    "* добавление нового столбца секунд, для постраения графиков "
   ]
  },
  {
   "cell_type": "code",
   "execution_count": 8,
   "id": "0aa266f1",
   "metadata": {},
   "outputs": [
    {
     "data": {
      "text/html": [
       "<div>\n",
       "<style scoped>\n",
       "    .dataframe tbody tr th:only-of-type {\n",
       "        vertical-align: middle;\n",
       "    }\n",
       "\n",
       "    .dataframe tbody tr th {\n",
       "        vertical-align: top;\n",
       "    }\n",
       "\n",
       "    .dataframe thead th {\n",
       "        text-align: right;\n",
       "    }\n",
       "</style>\n",
       "<table border=\"1\" class=\"dataframe\">\n",
       "  <thead>\n",
       "    <tr style=\"text-align: right;\">\n",
       "      <th></th>\n",
       "      <th>hour_minute</th>\n",
       "      <th>second</th>\n",
       "      <th>gender</th>\n",
       "      <th>age</th>\n",
       "      <th>time</th>\n",
       "      <th>seconds</th>\n",
       "    </tr>\n",
       "  </thead>\n",
       "  <tbody>\n",
       "    <tr>\n",
       "      <th>1</th>\n",
       "      <td>2.39</td>\n",
       "      <td>53</td>\n",
       "      <td>woman</td>\n",
       "      <td>&lt; 34</td>\n",
       "      <td>0 days 02:39:53</td>\n",
       "      <td>9593</td>\n",
       "    </tr>\n",
       "    <tr>\n",
       "      <th>2</th>\n",
       "      <td>2.53</td>\n",
       "      <td>36</td>\n",
       "      <td>woman</td>\n",
       "      <td>&lt; 34</td>\n",
       "      <td>0 days 02:53:36</td>\n",
       "      <td>10416</td>\n",
       "    </tr>\n",
       "    <tr>\n",
       "      <th>3</th>\n",
       "      <td>2.58</td>\n",
       "      <td>19</td>\n",
       "      <td>woman</td>\n",
       "      <td>&lt; 34</td>\n",
       "      <td>0 days 02:58:19</td>\n",
       "      <td>10699</td>\n",
       "    </tr>\n",
       "  </tbody>\n",
       "</table>\n",
       "</div>"
      ],
      "text/plain": [
       "  hour_minute second gender   age            time  seconds\n",
       "1        2.39     53  woman  < 34 0 days 02:39:53     9593\n",
       "2        2.53     36  woman  < 34 0 days 02:53:36    10416\n",
       "3        2.58     19  woman  < 34 0 days 02:58:19    10699"
      ]
     },
     "execution_count": 8,
     "metadata": {},
     "output_type": "execute_result"
    }
   ],
   "source": [
    "df['seconds'] = df['time'].dt.total_seconds().astype(int)\n",
    "df.head(3)"
   ]
  },
  {
   "cell_type": "markdown",
   "id": "331dcb55",
   "metadata": {},
   "source": [
    "* удаление ненужных столбцов и нулевых дней в записи столбца time"
   ]
  },
  {
   "cell_type": "markdown",
   "id": "7bee74ff",
   "metadata": {},
   "source": [
    "df = df.drop(columns=['hour_minute', 'second'])"
   ]
  },
  {
   "cell_type": "code",
   "execution_count": 9,
   "id": "a73d38fe",
   "metadata": {},
   "outputs": [
    {
     "data": {
      "text/html": [
       "<div>\n",
       "<style scoped>\n",
       "    .dataframe tbody tr th:only-of-type {\n",
       "        vertical-align: middle;\n",
       "    }\n",
       "\n",
       "    .dataframe tbody tr th {\n",
       "        vertical-align: top;\n",
       "    }\n",
       "\n",
       "    .dataframe thead th {\n",
       "        text-align: right;\n",
       "    }\n",
       "</style>\n",
       "<table border=\"1\" class=\"dataframe\">\n",
       "  <thead>\n",
       "    <tr style=\"text-align: right;\">\n",
       "      <th></th>\n",
       "      <th>hour_minute</th>\n",
       "      <th>second</th>\n",
       "      <th>gender</th>\n",
       "      <th>age</th>\n",
       "      <th>time</th>\n",
       "      <th>seconds</th>\n",
       "    </tr>\n",
       "  </thead>\n",
       "  <tbody>\n",
       "    <tr>\n",
       "      <th>1</th>\n",
       "      <td>2.39</td>\n",
       "      <td>53</td>\n",
       "      <td>woman</td>\n",
       "      <td>&lt; 34</td>\n",
       "      <td>02:39:53</td>\n",
       "      <td>9593</td>\n",
       "    </tr>\n",
       "    <tr>\n",
       "      <th>2</th>\n",
       "      <td>2.53</td>\n",
       "      <td>36</td>\n",
       "      <td>woman</td>\n",
       "      <td>&lt; 34</td>\n",
       "      <td>02:53:36</td>\n",
       "      <td>10416</td>\n",
       "    </tr>\n",
       "    <tr>\n",
       "      <th>3</th>\n",
       "      <td>2.58</td>\n",
       "      <td>19</td>\n",
       "      <td>woman</td>\n",
       "      <td>&lt; 34</td>\n",
       "      <td>02:58:19</td>\n",
       "      <td>10699</td>\n",
       "    </tr>\n",
       "  </tbody>\n",
       "</table>\n",
       "</div>"
      ],
      "text/plain": [
       "  hour_minute second gender   age      time  seconds\n",
       "1        2.39     53  woman  < 34  02:39:53     9593\n",
       "2        2.53     36  woman  < 34  02:53:36    10416\n",
       "3        2.58     19  woman  < 34  02:58:19    10699"
      ]
     },
     "execution_count": 9,
     "metadata": {},
     "output_type": "execute_result"
    }
   ],
   "source": [
    "df['time'] = df['time'].astype(str).str.split(' ').str[-1]\n",
    "df.head(3)"
   ]
  },
  {
   "cell_type": "markdown",
   "id": "1eb4b4cb",
   "metadata": {},
   "source": [
    "#### **4. Распределение мест**"
   ]
  },
  {
   "cell_type": "markdown",
   "id": "7d9f6b9c",
   "metadata": {},
   "source": [
    "* добавление столбца итогового места по времени заезда для общего зачета мужчин и женщин, без разделений на категории по возрасту"
   ]
  },
  {
   "cell_type": "code",
   "execution_count": 10,
   "id": "23efef7f",
   "metadata": {},
   "outputs": [
    {
     "data": {
      "text/html": [
       "<div>\n",
       "<style scoped>\n",
       "    .dataframe tbody tr th:only-of-type {\n",
       "        vertical-align: middle;\n",
       "    }\n",
       "\n",
       "    .dataframe tbody tr th {\n",
       "        vertical-align: top;\n",
       "    }\n",
       "\n",
       "    .dataframe thead th {\n",
       "        text-align: right;\n",
       "    }\n",
       "</style>\n",
       "<table border=\"1\" class=\"dataframe\">\n",
       "  <thead>\n",
       "    <tr style=\"text-align: right;\">\n",
       "      <th></th>\n",
       "      <th>hour_minute</th>\n",
       "      <th>second</th>\n",
       "      <th>gender</th>\n",
       "      <th>age</th>\n",
       "      <th>time</th>\n",
       "      <th>seconds</th>\n",
       "      <th>place</th>\n",
       "    </tr>\n",
       "  </thead>\n",
       "  <tbody>\n",
       "    <tr>\n",
       "      <th>1</th>\n",
       "      <td>2.39</td>\n",
       "      <td>53</td>\n",
       "      <td>woman</td>\n",
       "      <td>&lt; 34</td>\n",
       "      <td>02:39:53</td>\n",
       "      <td>9593</td>\n",
       "      <td>2.0</td>\n",
       "    </tr>\n",
       "    <tr>\n",
       "      <th>2</th>\n",
       "      <td>2.53</td>\n",
       "      <td>36</td>\n",
       "      <td>woman</td>\n",
       "      <td>&lt; 34</td>\n",
       "      <td>02:53:36</td>\n",
       "      <td>10416</td>\n",
       "      <td>8.0</td>\n",
       "    </tr>\n",
       "    <tr>\n",
       "      <th>3</th>\n",
       "      <td>2.58</td>\n",
       "      <td>19</td>\n",
       "      <td>woman</td>\n",
       "      <td>&lt; 34</td>\n",
       "      <td>02:58:19</td>\n",
       "      <td>10699</td>\n",
       "      <td>10.0</td>\n",
       "    </tr>\n",
       "  </tbody>\n",
       "</table>\n",
       "</div>"
      ],
      "text/plain": [
       "  hour_minute second gender   age      time  seconds  place\n",
       "1        2.39     53  woman  < 34  02:39:53     9593    2.0\n",
       "2        2.53     36  woman  < 34  02:53:36    10416    8.0\n",
       "3        2.58     19  woman  < 34  02:58:19    10699   10.0"
      ]
     },
     "execution_count": 10,
     "metadata": {},
     "output_type": "execute_result"
    }
   ],
   "source": [
    "df['place'] = df.groupby('gender')['time'].rank(method='first', ascending=True).round()\n",
    "df.head(3)"
   ]
  },
  {
   "cell_type": "markdown",
   "id": "0ee207cc",
   "metadata": {},
   "source": [
    "* итоговая таблица итогового места в соревнованиях для женщин"
   ]
  },
  {
   "cell_type": "code",
   "execution_count": 11,
   "id": "31410c44",
   "metadata": {},
   "outputs": [
    {
     "data": {
      "text/html": [
       "<div>\n",
       "<style scoped>\n",
       "    .dataframe tbody tr th:only-of-type {\n",
       "        vertical-align: middle;\n",
       "    }\n",
       "\n",
       "    .dataframe tbody tr th {\n",
       "        vertical-align: top;\n",
       "    }\n",
       "\n",
       "    .dataframe thead th {\n",
       "        text-align: right;\n",
       "    }\n",
       "</style>\n",
       "<table border=\"1\" class=\"dataframe\">\n",
       "  <thead>\n",
       "    <tr style=\"text-align: right;\">\n",
       "      <th></th>\n",
       "      <th>hour_minute</th>\n",
       "      <th>second</th>\n",
       "      <th>gender</th>\n",
       "      <th>age</th>\n",
       "      <th>time</th>\n",
       "      <th>seconds</th>\n",
       "      <th>place</th>\n",
       "    </tr>\n",
       "  </thead>\n",
       "  <tbody>\n",
       "    <tr>\n",
       "      <th>14</th>\n",
       "      <td>2.37</td>\n",
       "      <td>39</td>\n",
       "      <td>woman</td>\n",
       "      <td>40 - 44</td>\n",
       "      <td>02:37:39</td>\n",
       "      <td>9459</td>\n",
       "      <td>1.0</td>\n",
       "    </tr>\n",
       "    <tr>\n",
       "      <th>1</th>\n",
       "      <td>2.39</td>\n",
       "      <td>53</td>\n",
       "      <td>woman</td>\n",
       "      <td>&lt; 34</td>\n",
       "      <td>02:39:53</td>\n",
       "      <td>9593</td>\n",
       "      <td>2.0</td>\n",
       "    </tr>\n",
       "    <tr>\n",
       "      <th>9</th>\n",
       "      <td>2.43</td>\n",
       "      <td>01</td>\n",
       "      <td>woman</td>\n",
       "      <td>35 - 39</td>\n",
       "      <td>02:43:01</td>\n",
       "      <td>9781</td>\n",
       "      <td>3.0</td>\n",
       "    </tr>\n",
       "    <tr>\n",
       "      <th>10</th>\n",
       "      <td>2.47</td>\n",
       "      <td>11</td>\n",
       "      <td>woman</td>\n",
       "      <td>35 - 39</td>\n",
       "      <td>02:47:11</td>\n",
       "      <td>10031</td>\n",
       "      <td>4.0</td>\n",
       "    </tr>\n",
       "    <tr>\n",
       "      <th>23</th>\n",
       "      <td>2.49</td>\n",
       "      <td>01</td>\n",
       "      <td>woman</td>\n",
       "      <td>45 - 49</td>\n",
       "      <td>02:49:01</td>\n",
       "      <td>10141</td>\n",
       "      <td>5.0</td>\n",
       "    </tr>\n",
       "  </tbody>\n",
       "</table>\n",
       "</div>"
      ],
      "text/plain": [
       "   hour_minute second gender      age      time  seconds  place\n",
       "14        2.37     39  woman  40 - 44  02:37:39     9459    1.0\n",
       "1         2.39     53  woman     < 34  02:39:53     9593    2.0\n",
       "9         2.43     01  woman  35 - 39  02:43:01     9781    3.0\n",
       "10        2.47     11  woman  35 - 39  02:47:11    10031    4.0\n",
       "23        2.49     01  woman  45 - 49  02:49:01    10141    5.0"
      ]
     },
     "execution_count": 11,
     "metadata": {},
     "output_type": "execute_result"
    }
   ],
   "source": [
    "place_w = df.duplicated(subset=['place'], keep='last')\n",
    "df[place_w].sort_values('place').head(5)"
   ]
  },
  {
   "cell_type": "markdown",
   "id": "df5bada9",
   "metadata": {},
   "source": [
    "#### **5. Гистограмма финиширования по категориям**"
   ]
  },
  {
   "cell_type": "markdown",
   "id": "bfb122f0",
   "metadata": {},
   "source": [
    "* количество участников в каждой группе"
   ]
  },
  {
   "cell_type": "code",
   "execution_count": 12,
   "id": "68729512",
   "metadata": {},
   "outputs": [
    {
     "data": {
      "text/html": [
       "<div>\n",
       "<style scoped>\n",
       "    .dataframe tbody tr th:only-of-type {\n",
       "        vertical-align: middle;\n",
       "    }\n",
       "\n",
       "    .dataframe tbody tr th {\n",
       "        vertical-align: top;\n",
       "    }\n",
       "\n",
       "    .dataframe thead th {\n",
       "        text-align: right;\n",
       "    }\n",
       "</style>\n",
       "<table border=\"1\" class=\"dataframe\">\n",
       "  <thead>\n",
       "    <tr style=\"text-align: right;\">\n",
       "      <th></th>\n",
       "      <th>age</th>\n",
       "    </tr>\n",
       "    <tr>\n",
       "      <th>age</th>\n",
       "      <th></th>\n",
       "    </tr>\n",
       "  </thead>\n",
       "  <tbody>\n",
       "    <tr>\n",
       "      <th>35 - 39</th>\n",
       "      <td>60</td>\n",
       "    </tr>\n",
       "    <tr>\n",
       "      <th>40 - 44</th>\n",
       "      <td>67</td>\n",
       "    </tr>\n",
       "    <tr>\n",
       "      <th>45 - 49</th>\n",
       "      <td>50</td>\n",
       "    </tr>\n",
       "    <tr>\n",
       "      <th>50 - 54</th>\n",
       "      <td>34</td>\n",
       "    </tr>\n",
       "    <tr>\n",
       "      <th>&lt; 34</th>\n",
       "      <td>75</td>\n",
       "    </tr>\n",
       "    <tr>\n",
       "      <th>&gt; 55</th>\n",
       "      <td>19</td>\n",
       "    </tr>\n",
       "  </tbody>\n",
       "</table>\n",
       "</div>"
      ],
      "text/plain": [
       "         age\n",
       "age         \n",
       "35 - 39   60\n",
       "40 - 44   67\n",
       "45 - 49   50\n",
       "50 - 54   34\n",
       "< 34      75\n",
       "> 55      19"
      ]
     },
     "execution_count": 12,
     "metadata": {},
     "output_type": "execute_result"
    }
   ],
   "source": [
    "df.groupby('age')['age'].count().to_frame()"
   ]
  },
  {
   "cell_type": "markdown",
   "id": "2564a01d",
   "metadata": {},
   "source": [
    "* распределение времени финиширования по возрастным группам"
   ]
  },
  {
   "cell_type": "code",
   "execution_count": 13,
   "id": "3da54187",
   "metadata": {},
   "outputs": [
    {
     "data": {
      "image/png": "[encoded data removed]",
      "text/plain": [
       "<Figure size 1200x400 with 1 Axes>"
      ]
     },
     "metadata": {},
     "output_type": "display_data"
    }
   ],
   "source": [
    "plt.figure(figsize = (12,4))\n",
    "sns.boxplot(data=df, x=\"seconds\", y=\"age\", showfliers=False)\n",
    "plt.xlabel('время в секундах')\n",
    "plt.ylabel('возрастная группа')\n",
    "plt.title('Распределение времени финиша по группам')\n",
    "plt.show()"
   ]
  },
  {
   "cell_type": "markdown",
   "id": "ce018b0f",
   "metadata": {},
   "source": [
    "#### **6. Гистограмма финиширования мужчин и женщин**"
   ]
  },
  {
   "cell_type": "markdown",
   "id": "d4d76074",
   "metadata": {},
   "source": [
    "* гистограмма распределение женщин и мужчин по времени финиширования на соревновании"
   ]
  },
  {
   "cell_type": "code",
   "execution_count": 14,
   "id": "36e91345",
   "metadata": {},
   "outputs": [],
   "source": [
    "df_w = df[df['gender']=='woman']\n",
    "df_m = df[df['gender']=='man']"
   ]
  },
  {
   "cell_type": "code",
   "execution_count": 15,
   "id": "7afc4fb3",
   "metadata": {},
   "outputs": [
    {
     "data": {
      "image/png": "[encoded data removed]",
      "text/plain": [
       "<Figure size 640x480 with 1 Axes>"
      ]
     },
     "metadata": {},
     "output_type": "display_data"
    }
   ],
   "source": [
    "sns.histplot(df_m['seconds'], bins=20, edgecolor='white', color='mediumaquamarine')\n",
    "sns.histplot(df_w['seconds'], bins=20, edgecolor='white', color='red')\n",
    "plt.xlabel('время в секундах')\n",
    "plt.ylabel('участники')\n",
    "plt.title('Финиш мужчин и женщин')\n",
    "plt.show()"
   ]
  },
  {
   "cell_type": "markdown",
   "id": "a69d989c",
   "metadata": {},
   "source": [
    "#### **7. Распределение финишеров по группам**"
   ]
  },
  {
   "cell_type": "markdown",
   "id": "af6e9bfa",
   "metadata": {},
   "source": [
    "* распределение финишеров по группам"
   ]
  },
  {
   "cell_type": "code",
   "execution_count": 16,
   "id": "b9490d45",
   "metadata": {},
   "outputs": [
    {
     "data": {
      "image/png": "[encoded data removed]",
      "text/plain": [
       "<Figure size 1000x400 with 1 Axes>"
      ]
     },
     "metadata": {},
     "output_type": "display_data"
    }
   ],
   "source": [
    "plt.figure(figsize = (10,4))\n",
    "sns.scatterplot(data=df, x=\"seconds\", y=\"age\", sizes=(20, 250), legend=\"full\", color='mediumaquamarine')\n",
    "sns.scatterplot(data=df_w, x=\"seconds\", y=\"age\", sizes=(20, 250), legend=\"full\", color='red')\n",
    "\n",
    "plt.xlabel('время в секундах')  \n",
    "plt.ylabel('возрастная группа')\n",
    "plt.title('Распределение финишеров по группам')\n",
    "plt.show()"
   ]
  },
  {
   "cell_type": "code",
   "execution_count": null,
   "id": "fc076872",
   "metadata": {},
   "outputs": [],
   "source": []
  }
 ],
 "metadata": {
  "kernelspec": {
   "display_name": "Python 3 (ipykernel)",
   "language": "python",
   "name": "python3"
  },
  "language_info": {
   "codemirror_mode": {
    "name": "ipython",
    "version": 3
   },
   "file_extension": ".py",
   "mimetype": "text/x-python",
   "name": "python",
   "nbconvert_exporter": "python",
   "pygments_lexer": "ipython3",
   "version": "3.11.5"
  }
 },
 "nbformat": 4,
 "nbformat_minor": 5
}
